{
 "cells": [
  {
   "cell_type": "code",
   "execution_count": 1,
   "metadata": {},
   "outputs": [],
   "source": [
    "niteesh=20"
   ]
  },
  {
   "cell_type": "code",
   "execution_count": 2,
   "metadata": {},
   "outputs": [
    {
     "name": "stdout",
     "output_type": "stream",
     "text": [
      "He is eligible for voting!\n"
     ]
    }
   ],
   "source": [
    "if niteesh>18:\n",
    "    print(\"He is eligible for voting!\")"
   ]
  },
  {
   "cell_type": "code",
   "execution_count": 4,
   "metadata": {},
   "outputs": [
    {
     "name": "stdout",
     "output_type": "stream",
     "text": [
      "ABC\n"
     ]
    }
   ],
   "source": [
    "print(\"ABC\")"
   ]
  },
  {
   "cell_type": "code",
   "execution_count": 5,
   "metadata": {},
   "outputs": [
    {
     "name": "stdout",
     "output_type": "stream",
     "text": [
      "He is eligible for voting!\n",
      "He is eligible for voting!\n"
     ]
    }
   ],
   "source": [
    "while niteesh>18:\n",
    "    print(\"He is eligible for voting!\")\n",
    "    niteesh=niteesh-1"
   ]
  },
  {
   "cell_type": "code",
   "execution_count": 8,
   "metadata": {},
   "outputs": [],
   "source": [
    "offset=-6"
   ]
  },
  {
   "cell_type": "code",
   "execution_count": 7,
   "metadata": {},
   "outputs": [
    {
     "name": "stdout",
     "output_type": "stream",
     "text": [
      "This is for offset  -6\n",
      "correcting...\n",
      "This is for offset  -5\n",
      "correcting...\n",
      "This is for offset  -4\n",
      "correcting...\n",
      "This is for offset  -3\n",
      "correcting...\n",
      "This is for offset  -2\n",
      "correcting...\n",
      "This is for offset  -1\n",
      "correcting...\n"
     ]
    }
   ],
   "source": [
    "while offset!=0:\n",
    "    print(\"This is for offset \",offset)\n",
    "    print(\"correcting...\")\n",
    "    if offset >0:\n",
    "        offset=offset-1\n",
    "    else:\n",
    "        offset=offset+1\n",
    "    "
   ]
  },
  {
   "cell_type": "code",
   "execution_count": null,
   "metadata": {},
   "outputs": [],
   "source": []
  }
 ],
 "metadata": {
  "kernelspec": {
   "display_name": "Python 3",
   "language": "python",
   "name": "python3"
  },
  "language_info": {
   "codemirror_mode": {
    "name": "ipython",
    "version": 3
   },
   "file_extension": ".py",
   "mimetype": "text/x-python",
   "name": "python",
   "nbconvert_exporter": "python",
   "pygments_lexer": "ipython3",
   "version": "3.7.1"
  }
 },
 "nbformat": 4,
 "nbformat_minor": 2
}
