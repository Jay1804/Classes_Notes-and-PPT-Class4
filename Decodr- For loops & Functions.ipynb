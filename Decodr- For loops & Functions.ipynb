{
 "cells": [
  {
   "cell_type": "code",
   "execution_count": 1,
   "metadata": {},
   "outputs": [],
   "source": [
    "marks=[11.25,18.0,20.0,10.75]"
   ]
  },
  {
   "cell_type": "code",
   "execution_count": 3,
   "metadata": {},
   "outputs": [
    {
     "name": "stdout",
     "output_type": "stream",
     "text": [
      "11.25\n",
      "18.0\n",
      "20.0\n",
      "10.75\n"
     ]
    }
   ],
   "source": [
    "for abc in marks:\n",
    "    \n",
    "    print(abc)\n",
    "    "
   ]
  },
  {
   "cell_type": "code",
   "execution_count": 5,
   "metadata": {},
   "outputs": [
    {
     "data": {
      "text/plain": [
       "[(0, 11.25), (1, 18.0), (2, 20.0), (3, 10.75)]"
      ]
     },
     "execution_count": 5,
     "metadata": {},
     "output_type": "execute_result"
    }
   ],
   "source": [
    "list(enumerate(marks))"
   ]
  },
  {
   "cell_type": "code",
   "execution_count": 18,
   "metadata": {},
   "outputs": [
    {
     "name": "stdout",
     "output_type": "stream",
     "text": [
      "Test Index 0 Marks Obtained 11.25\n",
      "Test Index 1 Marks Obtained 18.0\n",
      "Test Index 2 Marks Obtained 20.0\n",
      "Test Index 3 Marks Obtained 10.75\n"
     ]
    }
   ],
   "source": [
    "for index,mark in enumerate(marks):\n",
    "    print(\"Test Index \" + str(index) + \" Marks Obtained \" + str(mark))"
   ]
  },
  {
   "cell_type": "code",
   "execution_count": 10,
   "metadata": {},
   "outputs": [
    {
     "data": {
      "text/plain": [
       "'compund interestcompund interest'"
      ]
     },
     "execution_count": 10,
     "metadata": {},
     "output_type": "execute_result"
    }
   ],
   "source": [
    "\"compund interest\" + \"compund interest\""
   ]
  },
  {
   "cell_type": "code",
   "execution_count": 15,
   "metadata": {},
   "outputs": [
    {
     "data": {
      "text/plain": [
       "'compund interestTrue'"
      ]
     },
     "execution_count": 15,
     "metadata": {},
     "output_type": "execute_result"
    }
   ],
   "source": [
    "\"compund interest\" + str(True)"
   ]
  },
  {
   "cell_type": "code",
   "execution_count": 21,
   "metadata": {},
   "outputs": [],
   "source": [
    "number=1"
   ]
  },
  {
   "cell_type": "code",
   "execution_count": 22,
   "metadata": {},
   "outputs": [
    {
     "name": "stdout",
     "output_type": "stream",
     "text": [
      "1\n",
      "2\n",
      "3\n",
      "4\n",
      "5\n",
      "6\n",
      "7\n",
      "8\n",
      "9\n",
      "10\n"
     ]
    }
   ],
   "source": [
    "while number<11:\n",
    "    print(number)\n",
    "    number=number+1"
   ]
  },
  {
   "cell_type": "code",
   "execution_count": 29,
   "metadata": {},
   "outputs": [],
   "source": [
    "cricket=[\n",
    "    [\"Rohit\",59],\n",
    "    [\"KL Rahul\", 75],\n",
    "    [\"Virat Kohli\",103],\n",
    "    [\"Shreyash Iyer\",35],\n",
    "    [\"Dhoni\",30]\n",
    "]"
   ]
  },
  {
   "cell_type": "code",
   "execution_count": 30,
   "metadata": {},
   "outputs": [
    {
     "name": "stdout",
     "output_type": "stream",
     "text": [
      "Batsman Rohit scored 59\n",
      "Batsman KL Rahul scored 75\n",
      "Batsman Virat Kohli scored 103\n",
      "Batsman Shreyash Iyer scored 35\n",
      "Batsman Dhoni scored 30\n"
     ]
    }
   ],
   "source": [
    "for x in cricket:\n",
    "    print(\"Batsman \" + x[0] + \" scored \"+ str(x[1]))"
   ]
  },
  {
   "cell_type": "code",
   "execution_count": 33,
   "metadata": {},
   "outputs": [
    {
     "name": "stdout",
     "output_type": "stream",
     "text": [
      "59\n",
      "75\n",
      "103\n",
      "35\n",
      "30\n"
     ]
    }
   ],
   "source": [
    "for x in cricket:\n",
    "    print(x[1])"
   ]
  },
  {
   "cell_type": "code",
   "execution_count": 34,
   "metadata": {},
   "outputs": [],
   "source": [
    "cricketscores={\"Rohit\":59,\"KL Rahul\": 75,\"Virat Kohli\":103,\"Shreyash Iyer\":35,\"Dhoni\":30}"
   ]
  },
  {
   "cell_type": "code",
   "execution_count": 36,
   "metadata": {},
   "outputs": [
    {
     "name": "stdout",
     "output_type": "stream",
     "text": [
      "Rohit 59\n",
      "KL Rahul 75\n",
      "Virat Kohli 103\n",
      "Shreyash Iyer 35\n",
      "Dhoni 30\n"
     ]
    }
   ],
   "source": [
    "for key,value in cricketscores.items():\n",
    "    print(key + \" \"+ str(value))"
   ]
  },
  {
   "cell_type": "code",
   "execution_count": 37,
   "metadata": {},
   "outputs": [
    {
     "data": {
      "text/plain": [
       "dict_keys(['Rohit', 'KL Rahul', 'Virat Kohli', 'Shreyash Iyer', 'Dhoni'])"
      ]
     },
     "execution_count": 37,
     "metadata": {},
     "output_type": "execute_result"
    }
   ],
   "source": [
    "cricketscores.keys()"
   ]
  },
  {
   "cell_type": "code",
   "execution_count": 38,
   "metadata": {},
   "outputs": [
    {
     "data": {
      "text/plain": [
       "dict_values([59, 75, 103, 35, 30])"
      ]
     },
     "execution_count": 38,
     "metadata": {},
     "output_type": "execute_result"
    }
   ],
   "source": [
    "cricketscores.values()"
   ]
  },
  {
   "cell_type": "code",
   "execution_count": 41,
   "metadata": {},
   "outputs": [],
   "source": [
    "import numpy as np"
   ]
  },
  {
   "cell_type": "code",
   "execution_count": 42,
   "metadata": {},
   "outputs": [],
   "source": [
    "np_scores=np.array([59,75,103,35,30])"
   ]
  },
  {
   "cell_type": "code",
   "execution_count": 43,
   "metadata": {},
   "outputs": [
    {
     "data": {
      "text/plain": [
       "1"
      ]
     },
     "execution_count": 43,
     "metadata": {},
     "output_type": "execute_result"
    }
   ],
   "source": [
    "np_scores.ndim"
   ]
  },
  {
   "cell_type": "code",
   "execution_count": 44,
   "metadata": {},
   "outputs": [
    {
     "name": "stdout",
     "output_type": "stream",
     "text": [
      "59\n",
      "75\n",
      "103\n",
      "35\n",
      "30\n"
     ]
    }
   ],
   "source": [
    "for x in np_scores:\n",
    "    print(x)"
   ]
  },
  {
   "cell_type": "code",
   "execution_count": 45,
   "metadata": {},
   "outputs": [],
   "source": [
    "np_test=np.array([\n",
    "    [74,180],\n",
    "    [72,45],\n",
    "    [24,14],\n",
    "    [32,98]\n",
    "])"
   ]
  },
  {
   "cell_type": "code",
   "execution_count": 46,
   "metadata": {},
   "outputs": [
    {
     "data": {
      "text/plain": [
       "2"
      ]
     },
     "execution_count": 46,
     "metadata": {},
     "output_type": "execute_result"
    }
   ],
   "source": [
    "np_test.ndim"
   ]
  },
  {
   "cell_type": "code",
   "execution_count": 52,
   "metadata": {},
   "outputs": [
    {
     "name": "stdout",
     "output_type": "stream",
     "text": [
      "1st Innings: 74 Second innings: 180\n",
      "1st Innings: 72 Second innings: 45\n",
      "1st Innings: 24 Second innings: 14\n",
      "1st Innings: 32 Second innings: 98\n"
     ]
    }
   ],
   "source": [
    "for x in np_test:\n",
    "    print(\"1st Innings: \"+ str(x[0])+ \" Second innings: \"+ str(x[1]))"
   ]
  },
  {
   "cell_type": "code",
   "execution_count": 53,
   "metadata": {},
   "outputs": [
    {
     "name": "stdout",
     "output_type": "stream",
     "text": [
      "1st Innings:  74  Second innings:  180\n",
      "1st Innings:  72  Second innings:  45\n",
      "1st Innings:  24  Second innings:  14\n",
      "1st Innings:  32  Second innings:  98\n"
     ]
    }
   ],
   "source": [
    "for x in np_test:\n",
    "    print(\"1st Innings: \", x[0], \" Second innings: \",x[1])"
   ]
  },
  {
   "cell_type": "code",
   "execution_count": 51,
   "metadata": {},
   "outputs": [
    {
     "name": "stdout",
     "output_type": "stream",
     "text": [
      "74\n",
      "180\n",
      "72\n",
      "45\n",
      "24\n",
      "14\n",
      "32\n",
      "98\n"
     ]
    }
   ],
   "source": [
    "for x in np.nditer(np_test):\n",
    "    print(x)"
   ]
  },
  {
   "cell_type": "code",
   "execution_count": 54,
   "metadata": {},
   "outputs": [],
   "source": [
    "import pandas as pd"
   ]
  },
  {
   "cell_type": "code",
   "execution_count": 92,
   "metadata": {},
   "outputs": [],
   "source": [
    "cars=pd.read_csv(\"cars.csv\",index_col=0)"
   ]
  },
  {
   "cell_type": "code",
   "execution_count": 88,
   "metadata": {},
   "outputs": [
    {
     "name": "stdout",
     "output_type": "stream",
     "text": [
      "     cars_per_cap        country  drives_right\n",
      "US            809  United States          True\n",
      "AUS           731      Australia         False\n",
      "JAP           588          Japan         False\n",
      "IN             18          India         False\n",
      "RU            200         Russia          True\n",
      "MOR            70        Morocco          True\n",
      "EG             45          Egypt          True\n"
     ]
    }
   ],
   "source": [
    "print(cars)"
   ]
  },
  {
   "cell_type": "code",
   "execution_count": 64,
   "metadata": {},
   "outputs": [],
   "source": [
    "cars.loc[\"US\",\"cars_per_cap\"]=809"
   ]
  },
  {
   "cell_type": "code",
   "execution_count": 65,
   "metadata": {},
   "outputs": [
    {
     "name": "stdout",
     "output_type": "stream",
     "text": [
      "     cars_per_cap        country  drives_right\n",
      "US            809  United States          True\n",
      "AUS           731      Australia         False\n",
      "JAP           588          Japan         False\n",
      "IN             18          India         False\n",
      "RU            200         Russia          True\n",
      "MOR            70        Morocco          True\n",
      "EG             45          Egypt          True\n"
     ]
    }
   ],
   "source": [
    "print(cars)"
   ]
  },
  {
   "cell_type": "code",
   "execution_count": 72,
   "metadata": {},
   "outputs": [
    {
     "name": "stdout",
     "output_type": "stream",
     "text": [
      "US 809\n",
      "AUS 731\n",
      "JAP 588\n",
      "IN 18\n",
      "RU 200\n",
      "MOR 70\n",
      "EG 45\n"
     ]
    }
   ],
   "source": [
    "for label,rowdata in cars.iterrows():\n",
    "\n",
    "    print(label,rowdata[\"cars_per_cap\"])\n",
    "\n",
    "    "
   ]
  },
  {
   "cell_type": "code",
   "execution_count": 83,
   "metadata": {},
   "outputs": [],
   "source": [
    "for label,rowdata in cars.iterrows():\n",
    "    cars.loc[label,\"COUNTRY\"]= rowdata[\"country\"].upper()\n",
    "    \n",
    "           \n",
    " \n",
    "\n",
    "\n",
    "    "
   ]
  },
  {
   "cell_type": "code",
   "execution_count": 84,
   "metadata": {},
   "outputs": [
    {
     "name": "stdout",
     "output_type": "stream",
     "text": [
      "     cars_per_cap        country  drives_right        COUNTRY\n",
      "US            809  United States          True  UNITED STATES\n",
      "AUS           731      Australia         False      AUSTRALIA\n",
      "JAP           588          Japan         False          JAPAN\n",
      "IN             18          India         False          INDIA\n",
      "RU            200         Russia          True         RUSSIA\n",
      "MOR            70        Morocco          True        MOROCCO\n",
      "EG             45          Egypt          True          EGYPT\n"
     ]
    }
   ],
   "source": [
    "print(cars)"
   ]
  },
  {
   "cell_type": "code",
   "execution_count": 95,
   "metadata": {},
   "outputs": [],
   "source": [
    "cars[\"Rating\"]=cars[\"country\"].apply(str.upper)"
   ]
  },
  {
   "cell_type": "code",
   "execution_count": 96,
   "metadata": {},
   "outputs": [
    {
     "name": "stdout",
     "output_type": "stream",
     "text": [
      "     cars_per_cap        country  drives_right         Rating\n",
      "US            809  United States          True  UNITED STATES\n",
      "AUS           731      Australia         False      AUSTRALIA\n",
      "JAP           588          Japan         False          JAPAN\n",
      "IN             18          India         False          INDIA\n",
      "RU            200         Russia          True         RUSSIA\n",
      "MOR            70        Morocco          True        MOROCCO\n",
      "EG             45          Egypt          True          EGYPT\n"
     ]
    }
   ],
   "source": [
    "print(cars)"
   ]
  },
  {
   "cell_type": "code",
   "execution_count": 100,
   "metadata": {},
   "outputs": [
    {
     "data": {
      "text/plain": [
       "US     UNITED STATES\n",
       "AUS        AUSTRALIA\n",
       "JAP            JAPAN\n",
       "IN             INDIA\n",
       "RU            RUSSIA\n",
       "MOR          MOROCCO\n",
       "EG             EGYPT\n",
       "Name: country, dtype: object"
      ]
     },
     "execution_count": 100,
     "metadata": {},
     "output_type": "execute_result"
    }
   ],
   "source": [
    "cars.country.apply(str.upper)"
   ]
  },
  {
   "cell_type": "code",
   "execution_count": 102,
   "metadata": {},
   "outputs": [
    {
     "data": {
      "text/plain": [
       "US     UNITED STATES\n",
       "AUS        AUSTRALIA\n",
       "JAP            JAPAN\n",
       "IN             INDIA\n",
       "RU            RUSSIA\n",
       "MOR          MOROCCO\n",
       "EG             EGYPT\n",
       "Name: country, dtype: object"
      ]
     },
     "execution_count": 102,
     "metadata": {},
     "output_type": "execute_result"
    }
   ],
   "source": [
    "cars[\"country\"].apply(str.upper)"
   ]
  },
  {
   "cell_type": "code",
   "execution_count": 103,
   "metadata": {},
   "outputs": [],
   "source": [
    "def shout():\n",
    "    '''   Print a string with three exclamation marks'''\n",
    "    shout_word='congratulations'+ \"!!!\"\n",
    "    print(shout_word)"
   ]
  },
  {
   "cell_type": "code",
   "execution_count": 104,
   "metadata": {},
   "outputs": [
    {
     "name": "stdout",
     "output_type": "stream",
     "text": [
      "congratulations!!!\n"
     ]
    }
   ],
   "source": [
    "shout()"
   ]
  },
  {
   "cell_type": "code",
   "execution_count": 113,
   "metadata": {},
   "outputs": [],
   "source": [
    "congratulations=\"harikant\""
   ]
  },
  {
   "cell_type": "code",
   "execution_count": 118,
   "metadata": {},
   "outputs": [
    {
     "name": "stdout",
     "output_type": "stream",
     "text": [
      "The history saving thread hit an unexpected error (OperationalError('database or disk is full')).History will not be written to the database.\n"
     ]
    }
   ],
   "source": [
    "def shout(word):\n",
    "    '''   Print a string with three exclamation marks'''\n",
    "    shout_word=str(word)+ \"!!!\"\n",
    "    print(shout_word)"
   ]
  },
  {
   "cell_type": "code",
   "execution_count": 131,
   "metadata": {},
   "outputs": [],
   "source": [
    "shoutreturned=shout(10)"
   ]
  },
  {
   "cell_type": "code",
   "execution_count": 132,
   "metadata": {},
   "outputs": [
    {
     "data": {
      "text/plain": [
       "'10!!!'"
      ]
     },
     "execution_count": 132,
     "metadata": {},
     "output_type": "execute_result"
    }
   ],
   "source": [
    "shoutreturned"
   ]
  },
  {
   "cell_type": "code",
   "execution_count": 128,
   "metadata": {},
   "outputs": [],
   "source": [
    "def shout1(word):\n",
    "    '''   Print a string with three exclamation marks'''\n",
    "    shout_word=str(word)+ \"!!!\"\n",
    "    return shout_word\n",
    "   "
   ]
  },
  {
   "cell_type": "code",
   "execution_count": 129,
   "metadata": {},
   "outputs": [],
   "source": [
    "returnedvalue=shout1(\"congratulations\")"
   ]
  },
  {
   "cell_type": "code",
   "execution_count": 130,
   "metadata": {},
   "outputs": [
    {
     "data": {
      "text/plain": [
       "'congratulations!!!'"
      ]
     },
     "execution_count": 130,
     "metadata": {},
     "output_type": "execute_result"
    }
   ],
   "source": [
    "returnedvalue"
   ]
  },
  {
   "cell_type": "code",
   "execution_count": 139,
   "metadata": {},
   "outputs": [],
   "source": [
    "def sample(abc):\n",
    "    pqr=str(abc)+ \"!!!\"\n",
    "    print(pqr)\n",
    "    return pqr"
   ]
  },
  {
   "cell_type": "code",
   "execution_count": 141,
   "metadata": {},
   "outputs": [
    {
     "name": "stdout",
     "output_type": "stream",
     "text": [
      "congrats!!!\n"
     ]
    },
    {
     "data": {
      "text/plain": [
       "'congrats!!!'"
      ]
     },
     "execution_count": 141,
     "metadata": {},
     "output_type": "execute_result"
    }
   ],
   "source": [
    "sample(\"congrats\")"
   ]
  },
  {
   "cell_type": "code",
   "execution_count": 151,
   "metadata": {},
   "outputs": [
    {
     "name": "stdout",
     "output_type": "stream",
     "text": [
      "rtewrtnjrgt!!!\n"
     ]
    }
   ],
   "source": [
    "xyzdf=sample(\"rtewrtnjrgt\")"
   ]
  },
  {
   "cell_type": "code",
   "execution_count": 143,
   "metadata": {},
   "outputs": [
    {
     "name": "stdout",
     "output_type": "stream",
     "text": [
      "congrats!!!\n"
     ]
    }
   ],
   "source": [
    "print(xyzdf)"
   ]
  },
  {
   "cell_type": "code",
   "execution_count": 144,
   "metadata": {},
   "outputs": [],
   "source": [
    "def sample1():\n",
    "    a=1*1"
   ]
  },
  {
   "cell_type": "code",
   "execution_count": 147,
   "metadata": {},
   "outputs": [],
   "source": [
    "sample1()"
   ]
  },
  {
   "cell_type": "code",
   "execution_count": 152,
   "metadata": {},
   "outputs": [],
   "source": [
    "def letter(word1,word2):\n",
    "    \"\"\" Concatenate strings with three exclamation marks\"\"\"\n",
    "    shout1=word1 + \"!!!\"\n",
    "    shout2=word2 + \"!!!\"\n",
    "    new_shout=shout1+ shout2\n",
    "    return new_shout"
   ]
  },
  {
   "cell_type": "code",
   "execution_count": 158,
   "metadata": {},
   "outputs": [],
   "source": [
    "yell=letter(word2=\"congratulations\",word1=\"you\")"
   ]
  },
  {
   "cell_type": "code",
   "execution_count": 157,
   "metadata": {},
   "outputs": [
    {
     "name": "stdout",
     "output_type": "stream",
     "text": [
      "you!!!congratulations!!!\n"
     ]
    }
   ],
   "source": [
    "print(yell)"
   ]
  },
  {
   "cell_type": "code",
   "execution_count": 159,
   "metadata": {},
   "outputs": [],
   "source": [
    "nums=(3,4,6)"
   ]
  },
  {
   "cell_type": "code",
   "execution_count": 160,
   "metadata": {},
   "outputs": [
    {
     "data": {
      "text/plain": [
       "tuple"
      ]
     },
     "execution_count": 160,
     "metadata": {},
     "output_type": "execute_result"
    }
   ],
   "source": [
    "type(nums)"
   ]
  },
  {
   "cell_type": "code",
   "execution_count": 161,
   "metadata": {},
   "outputs": [],
   "source": [
    "num1,num2,num3=nums"
   ]
  },
  {
   "cell_type": "code",
   "execution_count": 171,
   "metadata": {},
   "outputs": [],
   "source": [
    "def shout_all(words1,words2):\n",
    "    \"\"\"Retrun a tuple of strings\"\"\"\n",
    "    shouts1=words1+ \"!!!\"\n",
    "    shout2=words2+ \"!!!\"\n",
    "    shout_words=(shouts1,shout2)\n",
    "    return (shouts1,shout2)"
   ]
  },
  {
   "cell_type": "code",
   "execution_count": 173,
   "metadata": {},
   "outputs": [],
   "source": [
    "yell11,yell12=shout_all(\"congratulations\",\"you\")"
   ]
  },
  {
   "cell_type": "code",
   "execution_count": 174,
   "metadata": {},
   "outputs": [
    {
     "data": {
      "text/plain": [
       "'congratulations!!!'"
      ]
     },
     "execution_count": 174,
     "metadata": {},
     "output_type": "execute_result"
    }
   ],
   "source": [
    "yell11"
   ]
  },
  {
   "cell_type": "code",
   "execution_count": 175,
   "metadata": {},
   "outputs": [
    {
     "data": {
      "text/plain": [
       "'you!!!'"
      ]
     },
     "execution_count": 175,
     "metadata": {},
     "output_type": "execute_result"
    }
   ],
   "source": [
    "yell12"
   ]
  },
  {
   "cell_type": "code",
   "execution_count": 176,
   "metadata": {},
   "outputs": [],
   "source": [
    "df=pd.read_csv(\"tweets.csv\")"
   ]
  },
  {
   "cell_type": "code",
   "execution_count": 178,
   "metadata": {},
   "outputs": [
    {
     "name": "stdout",
     "output_type": "stream",
     "text": [
      "   contributors  coordinates                      created_at  \\\n",
      "0           NaN          NaN  Tue Mar 29 23:40:17 +0000 2016   \n",
      "1           NaN          NaN  Tue Mar 29 23:40:17 +0000 2016   \n",
      "2           NaN          NaN  Tue Mar 29 23:40:17 +0000 2016   \n",
      "3           NaN          NaN  Tue Mar 29 23:40:17 +0000 2016   \n",
      "4           NaN          NaN  Tue Mar 29 23:40:17 +0000 2016   \n",
      "\n",
      "                                            entities  \\\n",
      "0  {'hashtags': [], 'user_mentions': [{'screen_na...   \n",
      "1  {'hashtags': [{'text': 'cruzsexscandal', 'indi...   \n",
      "2  {'hashtags': [], 'user_mentions': [], 'symbols...   \n",
      "3  {'hashtags': [], 'user_mentions': [], 'symbols...   \n",
      "4  {'hashtags': [], 'user_mentions': [{'screen_na...   \n",
      "\n",
      "                                   extended_entities  favorite_count  \\\n",
      "0  {'media': [{'sizes': {'large': {'w': 1024, 'h'...               0   \n",
      "1  {'media': [{'sizes': {'large': {'w': 500, 'h':...               0   \n",
      "2                                                NaN               0   \n",
      "3                                                NaN               0   \n",
      "4                                                NaN               0   \n",
      "\n",
      "   favorited filter_level  geo                  id  \\\n",
      "0      False          low  NaN  714960401759387648   \n",
      "1      False          low  NaN  714960401977319424   \n",
      "2      False          low  NaN  714960402426236928   \n",
      "3      False          low  NaN  714960402367561730   \n",
      "4      False          low  NaN  714960402149416960   \n",
      "\n",
      "                         ...                          quoted_status_id  \\\n",
      "0                        ...                                       NaN   \n",
      "1                        ...                                       NaN   \n",
      "2                        ...                                       NaN   \n",
      "3                        ...                              7.149239e+17   \n",
      "4                        ...                                       NaN   \n",
      "\n",
      "  quoted_status_id_str  retweet_count  retweeted  \\\n",
      "0                  NaN              0      False   \n",
      "1                  NaN              0      False   \n",
      "2                  NaN              0      False   \n",
      "3         7.149239e+17              0      False   \n",
      "4                  NaN              0      False   \n",
      "\n",
      "                                    retweeted_status  \\\n",
      "0  {'retweeted': False, 'text': \".@krollbondratin...   \n",
      "1  {'retweeted': False, 'text': '@dmartosko Cruz ...   \n",
      "2                                                NaN   \n",
      "3                                                NaN   \n",
      "4  {'retweeted': False, 'text': 'The anti-America...   \n",
      "\n",
      "                                              source  \\\n",
      "0  <a href=\"http://twitter.com\" rel=\"nofollow\">Tw...   \n",
      "1  <a href=\"http://twitter.com\" rel=\"nofollow\">Tw...   \n",
      "2  <a href=\"http://www.facebook.com/twitter\" rel=...   \n",
      "3  <a href=\"http://twitter.com/download/android\" ...   \n",
      "4  <a href=\"http://twitter.com/download/iphone\" r...   \n",
      "\n",
      "                                                text   timestamp_ms truncated  \\\n",
      "0  RT @bpolitics: .@krollbondrating's Christopher...  1459294817758     False   \n",
      "1  RT @HeidiAlpine: @dmartosko Cruz video found.....  1459294817810     False   \n",
      "2  Njihuni me ZonjÃ«n Trump !!! | Ekskluzive http...  1459294817917     False   \n",
      "3  Your an idiot she shouldn't have tried to grab...  1459294817903     False   \n",
      "4  RT @AlanLohner: The anti-American D.C. elites ...  1459294817851     False   \n",
      "\n",
      "                                                user  \n",
      "0  {'utc_offset': 3600, 'profile_image_url_https'...  \n",
      "1  {'utc_offset': None, 'profile_image_url_https'...  \n",
      "2  {'utc_offset': 7200, 'profile_image_url_https'...  \n",
      "3  {'utc_offset': None, 'profile_image_url_https'...  \n",
      "4  {'utc_offset': -18000, 'profile_image_url_http...  \n",
      "\n",
      "[5 rows x 31 columns]\n"
     ]
    }
   ],
   "source": [
    "print(df.head())"
   ]
  },
  {
   "cell_type": "code",
   "execution_count": 179,
   "metadata": {},
   "outputs": [
    {
     "data": {
      "text/plain": [
       "Index(['contributors', 'coordinates', 'created_at', 'entities',\n",
       "       'extended_entities', 'favorite_count', 'favorited', 'filter_level',\n",
       "       'geo', 'id', 'id_str', 'in_reply_to_screen_name',\n",
       "       'in_reply_to_status_id', 'in_reply_to_status_id_str',\n",
       "       'in_reply_to_user_id', 'in_reply_to_user_id_str', 'is_quote_status',\n",
       "       'lang', 'place', 'possibly_sensitive', 'quoted_status',\n",
       "       'quoted_status_id', 'quoted_status_id_str', 'retweet_count',\n",
       "       'retweeted', 'retweeted_status', 'source', 'text', 'timestamp_ms',\n",
       "       'truncated', 'user'],\n",
       "      dtype='object')"
      ]
     },
     "execution_count": 179,
     "metadata": {},
     "output_type": "execute_result"
    }
   ],
   "source": [
    "df.columns"
   ]
  },
  {
   "cell_type": "code",
   "execution_count": 202,
   "metadata": {},
   "outputs": [],
   "source": [
    "langs_count={}"
   ]
  },
  {
   "cell_type": "code",
   "execution_count": 203,
   "metadata": {},
   "outputs": [],
   "source": [
    "col=df[\"lang\"]"
   ]
  },
  {
   "cell_type": "code",
   "execution_count": 204,
   "metadata": {},
   "outputs": [
    {
     "data": {
      "text/plain": [
       "dict_keys([])"
      ]
     },
     "execution_count": 204,
     "metadata": {},
     "output_type": "execute_result"
    }
   ],
   "source": [
    "langs_count.keys()"
   ]
  },
  {
   "cell_type": "code",
   "execution_count": 205,
   "metadata": {},
   "outputs": [],
   "source": [
    "for entry in col:\n",
    "    if entry in langs_count.keys():\n",
    "        langs_count[entry] =langs_count[entry]+ 1\n",
    "    else:\n",
    "        langs_count[entry]=1"
   ]
  },
  {
   "cell_type": "code",
   "execution_count": 206,
   "metadata": {},
   "outputs": [
    {
     "name": "stdout",
     "output_type": "stream",
     "text": [
      "{'en': 97, 'et': 1, 'und': 2}\n"
     ]
    }
   ],
   "source": [
    "print(langs_count)"
   ]
  },
  {
   "cell_type": "code",
   "execution_count": 216,
   "metadata": {},
   "outputs": [],
   "source": [
    "def count_entries(dataframe,col_name):\n",
    "    langs_count={}\n",
    "    col=dataframe[col_name]\n",
    "    for entry in col:\n",
    "        if entry in langs_count.keys():\n",
    "            langs_count[entry]+=1\n",
    "        else:\n",
    "            langs_count[entry]=1\n",
    "    return langs_count\n",
    "        "
   ]
  },
  {
   "cell_type": "code",
   "execution_count": 217,
   "metadata": {},
   "outputs": [],
   "source": [
    "result=count_entries(df,\"lang\")"
   ]
  },
  {
   "cell_type": "code",
   "execution_count": 218,
   "metadata": {},
   "outputs": [
    {
     "name": "stdout",
     "output_type": "stream",
     "text": [
      "{'en': 97, 'et': 1, 'und': 2}\n"
     ]
    }
   ],
   "source": [
    "print(result)"
   ]
  },
  {
   "cell_type": "code",
   "execution_count": 219,
   "metadata": {},
   "outputs": [
    {
     "data": {
      "text/plain": [
       "en     97\n",
       "und     2\n",
       "et      1\n",
       "Name: lang, dtype: int64"
      ]
     },
     "execution_count": 219,
     "metadata": {},
     "output_type": "execute_result"
    }
   ],
   "source": [
    "df[\"lang\"].value_counts()"
   ]
  },
  {
   "cell_type": "code",
   "execution_count": null,
   "metadata": {},
   "outputs": [],
   "source": []
  }
 ],
 "metadata": {
  "kernelspec": {
   "display_name": "Python 3",
   "language": "python",
   "name": "python3"
  },
  "language_info": {
   "codemirror_mode": {
    "name": "ipython",
    "version": 3
   },
   "file_extension": ".py",
   "mimetype": "text/x-python",
   "name": "python",
   "nbconvert_exporter": "python",
   "pygments_lexer": "ipython3",
   "version": "3.7.1"
  }
 },
 "nbformat": 4,
 "nbformat_minor": 2
}
